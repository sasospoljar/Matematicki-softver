{
 "cells": [
  {
   "cell_type": "markdown",
   "metadata": {},
   "source": [
    "# Numpy"
   ]
  },
  {
   "cell_type": "markdown",
   "metadata": {},
   "source": [
    "## shape, dtype, size, itemsize"
   ]
  },
  {
   "cell_type": "code",
   "execution_count": 96,
   "metadata": {},
   "outputs": [],
   "source": [
    "import numpy as np "
   ]
  },
  {
   "cell_type": "code",
   "execution_count": 97,
   "metadata": {},
   "outputs": [],
   "source": [
    "skalar = np.array(9j) \n",
    "vektor = np.array([8, 2.3, 5, 3])\n",
    "matrica = np.array([[2, 3], [9, 0], [8, 1], [0, 0]])\n",
    "tenzor = np.array([[[2, 3, 8], [2, 2, -3]], [[9, 0, -1], [2, -8, 7]]], dtype=np.int8) #int8 je integer predstavljen s 8 bitova. tj to je 1 bajt"
   ]
  },
  {
   "cell_type": "code",
   "execution_count": 98,
   "metadata": {},
   "outputs": [
    {
     "data": {
      "text/plain": [
       "((), (4,), (4, 2), (2, 2, 3))"
      ]
     },
     "execution_count": 98,
     "metadata": {},
     "output_type": "execute_result"
    }
   ],
   "source": [
    "skalar.shape, vektor.shape, matrica.shape, tenzor.shape "
   ]
  },
  {
   "cell_type": "code",
   "execution_count": 99,
   "metadata": {},
   "outputs": [],
   "source": [
    "#ovaj ispis (4,) je posljedica pytona.. shape skalara je prazan, shape vektora je njegova duljina, shape matrica su dimenzije, shape tenzora je broj matrica, kolko svaka ima redaka i broj stupaca.--"
   ]
  },
  {
   "cell_type": "code",
   "execution_count": 100,
   "metadata": {},
   "outputs": [
    {
     "data": {
      "text/plain": [
       "array([[ 1,  4,  8, 12],\n",
       "       [16,  8,  8,  1]])"
      ]
     },
     "execution_count": 100,
     "metadata": {},
     "output_type": "execute_result"
    }
   ],
   "source": [
    "np.array([[skalar.size, vektor.size, matrica.size, tenzor.size], \n",
    "          [skalar.itemsize, vektor.itemsize, matrica.itemsize, tenzor.itemsize]])"
   ]
  },
  {
   "cell_type": "code",
   "execution_count": null,
   "metadata": {},
   "outputs": [],
   "source": []
  },
  {
   "cell_type": "code",
   "execution_count": null,
   "metadata": {},
   "outputs": [],
   "source": []
  },
  {
   "cell_type": "code",
   "execution_count": 101,
   "metadata": {},
   "outputs": [
    {
     "data": {
      "text/plain": [
       "array([[[ 2,  3,  8],\n",
       "        [ 2,  2, -3]],\n",
       "\n",
       "       [[ 9,  0, -1],\n",
       "        [ 2, -8,  7]]], dtype=int8)"
      ]
     },
     "execution_count": 101,
     "metadata": {},
     "output_type": "execute_result"
    }
   ],
   "source": [
    "tenzor"
   ]
  },
  {
   "cell_type": "code",
   "execution_count": 102,
   "metadata": {},
   "outputs": [
    {
     "data": {
      "text/plain": [
       "array([[ 2,  3,  8,  2],\n",
       "       [ 2, -3,  9,  0],\n",
       "       [-1,  2, -8,  7]], dtype=int8)"
      ]
     },
     "execution_count": 102,
     "metadata": {},
     "output_type": "execute_result"
    }
   ],
   "source": [
    "tenzor.reshape(3, 4) #mozemo interpretirati kao matricu 3*4 (1 dio memorije mozemo interpretirati na vise nacina)"
   ]
  },
  {
   "cell_type": "code",
   "execution_count": 103,
   "metadata": {},
   "outputs": [
    {
     "data": {
      "text/plain": [
       "(dtype('complex128'), dtype('float64'), dtype('int64'), dtype('int8'))"
      ]
     },
     "execution_count": 103,
     "metadata": {},
     "output_type": "execute_result"
    }
   ],
   "source": [
    "skalar.dtype, vektor.dtype, matrica.dtype, tenzor.dtype"
   ]
  },
  {
   "cell_type": "code",
   "execution_count": 104,
   "metadata": {},
   "outputs": [
    {
     "data": {
      "text/plain": [
       "(dtype('bool'),\n",
       " array([<built-in function chr>, <built-in function ord>], dtype=object))"
      ]
     },
     "execution_count": 104,
     "metadata": {},
     "output_type": "execute_result"
    }
   ],
   "source": [
    "np.array([True, True, False]).dtype, np.array([chr, ord]) #array istina i lazi, dobivamo bool dtype"
   ]
  },
  {
   "cell_type": "markdown",
   "metadata": {},
   "source": [
    "## arange, linspace"
   ]
  },
  {
   "cell_type": "code",
   "execution_count": 105,
   "metadata": {},
   "outputs": [
    {
     "data": {
      "text/plain": [
       "array([3. , 3.1, 3.2, 3.3, 3.4, 3.5, 3.6, 3.7, 3.8, 3.9, 4. , 4.1, 4.2,\n",
       "       4.3, 4.4, 4.5, 4.6, 4.7, 4.8, 4.9, 5. , 5.1])"
      ]
     },
     "execution_count": 105,
     "metadata": {},
     "output_type": "execute_result"
    }
   ],
   "source": [
    "np.arange(3, 5.2, 0.1) #daj mi sve brojeve od 3 do 5.2 s korakom 0.1"
   ]
  },
  {
   "cell_type": "code",
   "execution_count": 106,
   "metadata": {},
   "outputs": [
    {
     "data": {
      "text/plain": [
       "array([5., 4., 3., 2., 1.], dtype=float16)"
      ]
     },
     "execution_count": 106,
     "metadata": {},
     "output_type": "execute_result"
    }
   ],
   "source": [
    "np.arange(5, 0, -1, dtype=np.float16) #mozemo mu zadati dtype// arange je isto ko array samo mu mozemo poslati bilo koji tip podataka"
   ]
  },
  {
   "cell_type": "code",
   "execution_count": 107,
   "metadata": {},
   "outputs": [
    {
     "data": {
      "text/plain": [
       "array([1.41      , 1.43673469, 1.46346939, 1.49020408, 1.51693878,\n",
       "       1.54367347, 1.57040816, 1.59714286, 1.62387755, 1.65061224,\n",
       "       1.67734694, 1.70408163, 1.73081633, 1.75755102, 1.78428571,\n",
       "       1.81102041, 1.8377551 , 1.8644898 , 1.89122449, 1.91795918,\n",
       "       1.94469388, 1.97142857, 1.99816327, 2.02489796, 2.05163265,\n",
       "       2.07836735, 2.10510204, 2.13183673, 2.15857143, 2.18530612,\n",
       "       2.21204082, 2.23877551, 2.2655102 , 2.2922449 , 2.31897959,\n",
       "       2.34571429, 2.37244898, 2.39918367, 2.42591837, 2.45265306,\n",
       "       2.47938776, 2.50612245, 2.53285714, 2.55959184, 2.58632653,\n",
       "       2.61306122, 2.63979592, 2.66653061, 2.69326531, 2.72      ])"
      ]
     },
     "execution_count": 107,
     "metadata": {},
     "output_type": "execute_result"
    }
   ],
   "source": [
    "np.linspace(1.41, 2.72) #defaultna vrijednost podjele grafova je 50 dijelova... od 1.41 do 2.72 tako da su razmaci cca ekvidistantni"
   ]
  },
  {
   "cell_type": "code",
   "execution_count": 108,
   "metadata": {},
   "outputs": [
    {
     "data": {
      "text/plain": [
       "array([  0,  14,  28,  42,  57,  71,  85, 100])"
      ]
     },
     "execution_count": 108,
     "metadata": {},
     "output_type": "execute_result"
    }
   ],
   "source": [
    "np.linspace(0, 100, 8, dtype=int)"
   ]
  },
  {
   "cell_type": "code",
   "execution_count": 109,
   "metadata": {},
   "outputs": [
    {
     "ename": "SyntaxError",
     "evalue": "unexpected EOF while parsing (<ipython-input-109-90bfff9dd405>, line 1)",
     "output_type": "error",
     "traceback": [
      "\u001b[0;36m  File \u001b[0;32m\"<ipython-input-109-90bfff9dd405>\"\u001b[0;36m, line \u001b[0;32m1\u001b[0m\n\u001b[0;31m    np.geomspace(1, 128 # kao linspace ali umjesto aritmetickog niza gleda geometrijski niz.. svaka 7 vrijednost je cijela a ostale se interpoliraju\u001b[0m\n\u001b[0m                                                                                                                                                    ^\u001b[0m\n\u001b[0;31mSyntaxError\u001b[0m\u001b[0;31m:\u001b[0m unexpected EOF while parsing\n"
     ]
    }
   ],
   "source": [
    "np.geomspace(1, 128 # kao linspace ali umjesto aritmetickog niza gleda geometrijski niz.. svaka 7 vrijednost je cijela a ostale se interpoliraju"
   ]
  },
  {
   "cell_type": "markdown",
   "metadata": {},
   "source": [
    "## Slučajni brojevi"
   ]
  },
  {
   "cell_type": "code",
   "execution_count": null,
   "metadata": {},
   "outputs": [],
   "source": [
    "np.random.uniform(-1, 1, (3, 5))  # uniformna distribucija na [-1,1> ..trci argument je oblik(shape) u kojem ispisuje.. tu je to matrica 3*5"
   ]
  },
  {
   "cell_type": "code",
   "execution_count": null,
   "metadata": {},
   "outputs": [],
   "source": [
    "np.random.normal(100, 15, 20)  # 20 ljudi sa slučajno odabranim IQ.. standarna devijacija je 15..100 je srednja vrijednost,. a 20 je vektor jednodimenzionalni"
   ]
  },
  {
   "cell_type": "code",
   "execution_count": null,
   "metadata": {},
   "outputs": [],
   "source": [
    "poason = np.random.poisson(50, 1000) #np.mean - srednja vrijednost ... np.std - standarna devijacija\n",
    "np.mean(poason), np.std(poason, ddof=1) ** 2"
   ]
  },
  {
   "cell_type": "markdown",
   "metadata": {},
   "source": [
    "## Još malo o matricama\n"
   ]
  },
  {
   "cell_type": "code",
   "execution_count": null,
   "metadata": {},
   "outputs": [],
   "source": [
    "{k: np.diag([   #np.diag omogucuje da ekstrahira dijagonale matrice,.  \n",
    "    [1, 5, 7, 2],\n",
    "    [3, 2, 0, 1],\n",
    "    [2, 7, 1, 4]\n",
    "], k) for k in range(-3, 5)}"
   ]
  },
  {
   "cell_type": "code",
   "execution_count": null,
   "metadata": {},
   "outputs": [],
   "source": [
    "np.diag([2, 3, 8], -2) # ili moze konstruirati dijagonalu (ne mora biti glavna)"
   ]
  },
  {
   "cell_type": "code",
   "execution_count": null,
   "metadata": {},
   "outputs": [],
   "source": [
    "np.diag([2,3,6,8])"
   ]
  },
  {
   "cell_type": "code",
   "execution_count": null,
   "metadata": {},
   "outputs": [],
   "source": [
    "np.zeros((2, 9))"
   ]
  },
  {
   "cell_type": "code",
   "execution_count": null,
   "metadata": {},
   "outputs": [],
   "source": [
    "np.ones((2, 9))"
   ]
  },
  {
   "cell_type": "code",
   "execution_count": null,
   "metadata": {},
   "outputs": [],
   "source": [
    "np.eye(3)"
   ]
  },
  {
   "cell_type": "code",
   "execution_count": null,
   "metadata": {},
   "outputs": [],
   "source": [
    "np.array([2,3,6]) + np.eye(3) #stvari se zbrajaju po točkama.. (2,3,6) se zbraja s svakim retkom posebno iz jedinicne matrice"
   ]
  },
  {
   "cell_type": "markdown",
   "metadata": {},
   "source": [
    "## Datoteke"
   ]
  },
  {
   "cell_type": "code",
   "execution_count": null,
   "metadata": {},
   "outputs": [],
   "source": [
    "temperature = np.genfromtxt('tpt-world.csv', skip_header=1, delimiter=',') #skip_header-koliko prvih redaka preskace\n",
    "temperature.shape"
   ]
  },
  {
   "cell_type": "code",
   "execution_count": null,
   "metadata": {},
   "outputs": [],
   "source": [
    "godine, podaci = temperature.T #.T transponira matricu"
   ]
  },
  {
   "cell_type": "code",
   "execution_count": null,
   "metadata": {},
   "outputs": [],
   "source": [
    "godine"
   ]
  },
  {
   "cell_type": "code",
   "execution_count": null,
   "metadata": {},
   "outputs": [],
   "source": [
    "podaci.min(), godine.max()"
   ]
  },
  {
   "cell_type": "code",
   "execution_count": null,
   "metadata": {},
   "outputs": [],
   "source": [
    "godine.mean(), podaci.mean(), temperature.mean(), temperature.mean(axis=0) #podaci.mean nam daje srednju vrijednost svih podataka( i godina i temperatura)...najcesce trebamo srednju vrijednost po stupcima.. za to postavljamo axis=0"
   ]
  },
  {
   "cell_type": "code",
   "execution_count": null,
   "metadata": {},
   "outputs": [],
   "source": [
    "temperature.prod(axis=0) #produkt.. tu je vrijednost produkta prevelika pa se dogodio overflow.. niz i dalje postoji , a vrijednost je kao beskonacna"
   ]
  },
  {
   "cell_type": "code",
   "execution_count": null,
   "metadata": {},
   "outputs": [],
   "source": [
    "tenzor"
   ]
  },
  {
   "cell_type": "code",
   "execution_count": null,
   "metadata": {},
   "outputs": [],
   "source": [
    "tenzor.prod(axis=0) #produkt ovog tenzora po osi 0... za tenzor je prvi broj u deklaraciji broj matrica ( kod matrica prvi broj oznacava broj redaka matrice)"
   ]
  },
  {
   "cell_type": "code",
   "execution_count": null,
   "metadata": {},
   "outputs": [],
   "source": [
    "tenzor.prod(axis=1)"
   ]
  },
  {
   "cell_type": "code",
   "execution_count": null,
   "metadata": {},
   "outputs": [],
   "source": [
    "tenzor.prod(axis=2)"
   ]
  },
  {
   "cell_type": "code",
   "execution_count": null,
   "metadata": {},
   "outputs": [],
   "source": [
    "np.savetxt('matrica.csv', matrica, fmt='%2d')"
   ]
  },
  {
   "cell_type": "code",
   "execution_count": null,
   "metadata": {},
   "outputs": [],
   "source": [
    "!cat matrica.csv"
   ]
  },
  {
   "cell_type": "code",
   "execution_count": null,
   "metadata": {},
   "outputs": [],
   "source": [
    "np.save('matrica.npy', matrica) # binarni format.. brzi za ucitavanje od savetxt.. jer treba prevoditi iz txt u binarno i obratno kod ucitavanja i sejvanja"
   ]
  },
  {
   "cell_type": "code",
   "execution_count": null,
   "metadata": {},
   "outputs": [],
   "source": [
    "(np.load('matrica.npy') == matrica).all()"
   ]
  },
  {
   "cell_type": "markdown",
   "metadata": {},
   "source": [
    "## Indeksiranje"
   ]
  },
  {
   "cell_type": "code",
   "execution_count": null,
   "metadata": {},
   "outputs": [],
   "source": [
    "vektor"
   ]
  },
  {
   "cell_type": "code",
   "execution_count": null,
   "metadata": {},
   "outputs": [],
   "source": [
    "vektor[0], matrica[2, 1], tenzor[0, 1, 0], skalar[()]"
   ]
  },
  {
   "cell_type": "code",
   "execution_count": null,
   "metadata": {},
   "outputs": [],
   "source": [
    "matrica, matrica[:, 1], matrica[2, :], matrica[2], matrica[2, None], matrica[None, 1] #matrica[2, :] drugi redak, svi stupci... : = sve!... None = dodaj jos jednu dimenziju"
   ]
  },
  {
   "cell_type": "code",
   "execution_count": null,
   "metadata": {},
   "outputs": [],
   "source": [
    "matrica[:, 1] = 3  # sve vrijednosti prvog( broji od nule) stupca postavi na 3"
   ]
  },
  {
   "cell_type": "code",
   "execution_count": null,
   "metadata": {},
   "outputs": [],
   "source": [
    "matrica"
   ]
  },
  {
   "cell_type": "code",
   "execution_count": null,
   "metadata": {},
   "outputs": [],
   "source": [
    "tablica = np.arange(100).reshape(10, 10)\n",
    "tablica"
   ]
  },
  {
   "cell_type": "code",
   "execution_count": null,
   "metadata": {},
   "outputs": [],
   "source": [
    "tablica[3:-2, 1:8:2] # pocni sa trecim retkom, zavrsi 2 retka prije kraja---- pocni s prvim, zavrsi prije osmog i uzmi svaki drugi"
   ]
  },
  {
   "cell_type": "code",
   "execution_count": null,
   "metadata": {},
   "outputs": [],
   "source": [
    "tablica[:, [2, 6, 1]][[3, 2], :] #uzmi kompletne retke ,ali od stupaca uzmi 2 ,6 i 1... "
   ]
  },
  {
   "cell_type": "code",
   "execution_count": null,
   "metadata": {},
   "outputs": [],
   "source": [
    "tablica[[3, 2, 8], [2, 6, 1]]"
   ]
  },
  {
   "cell_type": "code",
   "execution_count": null,
   "metadata": {},
   "outputs": [],
   "source": [
    "tenzor < 3"
   ]
  },
  {
   "cell_type": "code",
   "execution_count": null,
   "metadata": {},
   "outputs": [],
   "source": [
    "tenzor[tenzor < 3] # ako indeksiramo tenzor s ovim tenzorom manjim od 3( bool) dobivamo vektor s vrijednostima manjih od 3"
   ]
  },
  {
   "cell_type": "code",
   "execution_count": null,
   "metadata": {},
   "outputs": [],
   "source": [
    "niz = np.random.normal(100, 15, 1_000_000) #1 000 000 kvocijenta inteligencije, srednja vrijednost 100 i 15 standarna devijacija"
   ]
  },
  {
   "cell_type": "code",
   "execution_count": null,
   "metadata": {},
   "outputs": [],
   "source": [
    "niz[(niz > 170) | (niz < 35)]"
   ]
  },
  {
   "cell_type": "code",
   "execution_count": null,
   "metadata": {},
   "outputs": [],
   "source": [
    "np.where(niz > 160) # where vraca indekse gdje se nalaze vrijednosti koje zadovoljavaju uvjet"
   ]
  },
  {
   "cell_type": "code",
   "execution_count": null,
   "metadata": {},
   "outputs": [],
   "source": [
    "matrica"
   ]
  },
  {
   "cell_type": "code",
   "execution_count": null,
   "metadata": {},
   "outputs": [],
   "source": [
    "np.where(matrica > 2, matrica, -9) #tamo gdje je veca od 2 uzmi matricu, tamo gdje nije, uzmi -9"
   ]
  },
  {
   "cell_type": "code",
   "execution_count": null,
   "metadata": {},
   "outputs": [],
   "source": [
    "godine[podaci > 0.1] #u sql-u je to ekvivalentno select nesto where nestodrugo"
   ]
  },
  {
   "cell_type": "markdown",
   "metadata": {},
   "source": [
    "## Vektorizacija"
   ]
  },
  {
   "cell_type": "code",
   "execution_count": null,
   "metadata": {},
   "outputs": [],
   "source": [
    "%time niz * 3 # ovo radi numericki procesor.. (radi vektorski)"
   ]
  },
  {
   "cell_type": "code",
   "execution_count": null,
   "metadata": {},
   "outputs": [],
   "source": [
    "%time np.array([x * 3 for x in niz]) # ovo radi pyton .. puno sporije"
   ]
  },
  {
   "cell_type": "code",
   "execution_count": null,
   "metadata": {},
   "outputs": [],
   "source": [
    "(niz * niz).sum() # pomnozimo po tockama, dobivamo niz, tj vektor i kad sumiramo imamo skalarni produkt"
   ]
  },
  {
   "cell_type": "code",
   "execution_count": null,
   "metadata": {},
   "outputs": [],
   "source": [
    "niz @ niz #manki je unutarnji produkt.. ako prima 2 matrice dat ce produkt matrica, a ako mu damo vektor i matricu dobit cemo djelovanje vektora na matricu"
   ]
  },
  {
   "cell_type": "code",
   "execution_count": null,
   "metadata": {},
   "outputs": [],
   "source": [
    "A = np.random.normal(0, 1, (256, 64))\n",
    "B = np.random.normal(0, 1, (64, 128))\n",
    "v = np.random.normal(0, 1, 128)"
   ]
  },
  {
   "cell_type": "code",
   "execution_count": null,
   "metadata": {},
   "outputs": [],
   "source": [
    "%time (A @ B @ v).shape"
   ]
  },
  {
   "cell_type": "code",
   "execution_count": null,
   "metadata": {},
   "outputs": [],
   "source": [
    "np.kron([[1, 2], [3, 4]], [[5, 6, 7], [8, 9, 10]])"
   ]
  },
  {
   "cell_type": "code",
   "execution_count": null,
   "metadata": {},
   "outputs": [],
   "source": [
    "mc = np.matrix([[1, 1j], [-2j, 3j]])"
   ]
  },
  {
   "cell_type": "code",
   "execution_count": null,
   "metadata": {},
   "outputs": [],
   "source": [
    "mc.T.conj() == mc.H"
   ]
  },
  {
   "cell_type": "code",
   "execution_count": null,
   "metadata": {},
   "outputs": [],
   "source": [
    "mc.imag"
   ]
  },
  {
   "cell_type": "code",
   "execution_count": null,
   "metadata": {},
   "outputs": [],
   "source": [
    "np.angle(mc) #argument kompleksnog broja"
   ]
  },
  {
   "cell_type": "markdown",
   "metadata": {},
   "source": [
    "## Inverzi"
   ]
  },
  {
   "cell_type": "code",
   "execution_count": null,
   "metadata": {},
   "outputs": [],
   "source": [
    "import numpy.linalg as la"
   ]
  },
  {
   "cell_type": "code",
   "execution_count": null,
   "metadata": {},
   "outputs": [],
   "source": [
    "la.det(mc)"
   ]
  },
  {
   "cell_type": "code",
   "execution_count": null,
   "metadata": {},
   "outputs": [],
   "source": [
    "la.inv(mc)"
   ]
  },
  {
   "cell_type": "code",
   "execution_count": null,
   "metadata": {},
   "outputs": [],
   "source": [
    "mc.I @ mc == np.identity(2) # mc je matric... a .I nam daje inverz.. (.T daje transponiranu)"
   ]
  },
  {
   "cell_type": "markdown",
   "metadata": {},
   "source": [
    "## Učitavanje s weba"
   ]
  },
  {
   "cell_type": "code",
   "execution_count": null,
   "metadata": {},
   "outputs": [],
   "source": [
    "import urllib.request as rq"
   ]
  },
  {
   "cell_type": "code",
   "execution_count": null,
   "metadata": {},
   "outputs": [],
   "source": [
    "import pathlib\n",
    "with rq.urlopen('https://raw.githubusercontent.com/jrjohansson/scientific-python-lectures/master/stockholm_td_adj.dat') as url:\n",
    "    pathlib.Path('Stockholm.dat').write_bytes(url.read()) # procitaj sve bytove iz socketa vezano uz ovaj request i zapisi ga nekam?"
   ]
  },
  {
   "cell_type": "code",
   "execution_count": null,
   "metadata": {},
   "outputs": [],
   "source": [
    "stockholm = np.genfromtxt('Stockholm.dat')"
   ]
  },
  {
   "cell_type": "code",
   "execution_count": null,
   "metadata": {},
   "outputs": [],
   "source": [
    "stockholm.shape"
   ]
  },
  {
   "cell_type": "code",
   "execution_count": null,
   "metadata": {},
   "outputs": [],
   "source": [
    "temperatura = stockholm[:, 3]"
   ]
  },
  {
   "cell_type": "code",
   "execution_count": null,
   "metadata": {},
   "outputs": [],
   "source": [
    "!head Stockholm.dat # prva 3 stupca je datum"
   ]
  },
  {
   "cell_type": "code",
   "execution_count": null,
   "metadata": {},
   "outputs": [],
   "source": [
    "temperatura.mean(), temperatura.std(), temperatura.min(), temperatura.max()"
   ]
  },
  {
   "cell_type": "code",
   "execution_count": null,
   "metadata": {},
   "outputs": [],
   "source": [
    "mjesec = stockholm[:, 1] # izdvojimo sve elemente iz stupca 1 i napravimo set od njih (izbacujemo duplikate)\n",
    "set(mjesec)"
   ]
  },
  {
   "cell_type": "code",
   "execution_count": null,
   "metadata": {},
   "outputs": [],
   "source": [
    "stockholm[mjesec == 2, 3].mean() #indeksiramo s arrayem, koji odabire sve vrijednosti treceg stupca na kojima je vrijednost prvog stupca jednaka 2.... to je srenja temp u veljači"
   ]
  },
  {
   "cell_type": "code",
   "execution_count": null,
   "metadata": {},
   "outputs": [],
   "source": [
    "po_mjesecima = {m: stockholm[mjesec == m, 3].mean() for m in np.arange(1, 13)} #preslikavanje rednog broja mjeseca u prosjecnu temp u mjesecu"
   ]
  },
  {
   "cell_type": "code",
   "execution_count": null,
   "metadata": {},
   "outputs": [],
   "source": [
    " po_mjesecima # keys su domena (mjeseci)..values je kodomena(vrijednosti)"
   ]
  },
  {
   "cell_type": "code",
   "execution_count": null,
   "metadata": {},
   "outputs": [],
   "source": [
    "%matplotlib inline"
   ]
  },
  {
   "cell_type": "code",
   "execution_count": null,
   "metadata": {},
   "outputs": [],
   "source": [
    "import matplotlib.pyplot as plt"
   ]
  },
  {
   "cell_type": "code",
   "execution_count": null,
   "metadata": {},
   "outputs": [],
   "source": [
    "plt.plot(po_mjesecima.keys(), po_mjesecima.values())"
   ]
  },
  {
   "cell_type": "code",
   "execution_count": null,
   "metadata": {
    "scrolled": false
   },
   "outputs": [],
   "source": [
    "plt.plot([1,2,3,5], [0,2,-1,4])"
   ]
  },
  {
   "cell_type": "markdown",
   "metadata": {},
   "source": [
    "## Vektorizacija funkcija"
   ]
  },
  {
   "cell_type": "code",
   "execution_count": null,
   "metadata": {},
   "outputs": [],
   "source": [
    "mc2 = mc.copy()\n",
    "mc2[1, 1] = 7"
   ]
  },
  {
   "cell_type": "code",
   "execution_count": null,
   "metadata": {},
   "outputs": [],
   "source": [
    "np.hstack([mc, mc2])"
   ]
  },
  {
   "cell_type": "code",
   "execution_count": null,
   "metadata": {},
   "outputs": [],
   "source": [
    "np.vstack([mc, mc2])"
   ]
  },
  {
   "cell_type": "code",
   "execution_count": null,
   "metadata": {},
   "outputs": [],
   "source": [
    "def funkcija(x):\n",
    "    if x < 0: return b'N'\n",
    "    elif x < 99: return b'M'\n",
    "    elif x < 150: return b'K'\n",
    "    else: return b'V'"
   ]
  },
  {
   "cell_type": "code",
   "execution_count": 112,
   "metadata": {},
   "outputs": [
    {
     "ename": "NameError",
     "evalue": "name 'niz' is not defined",
     "output_type": "error",
     "traceback": [
      "\u001b[0;31m---------------------------------------------------------------------------\u001b[0m",
      "\u001b[0;31mNameError\u001b[0m                                 Traceback (most recent call last)",
      "\u001b[0;32m<ipython-input-112-0b0ca0510d35>\u001b[0m in \u001b[0;36m<module>\u001b[0;34m()\u001b[0m\n\u001b[0;32m----> 1\u001b[0;31m \u001b[0mfunkcija\u001b[0m\u001b[0;34m(\u001b[0m\u001b[0mniz\u001b[0m\u001b[0;34m)\u001b[0m\u001b[0;34m\u001b[0m\u001b[0m\n\u001b[0m",
      "\u001b[0;31mNameError\u001b[0m: name 'niz' is not defined"
     ]
    }
   ],
   "source": [
    "funkcija(niz)"
   ]
  },
  {
   "cell_type": "code",
   "execution_count": 110,
   "metadata": {},
   "outputs": [],
   "source": [
    "vektorizirana = np.vectorize(funkcija)"
   ]
  },
  {
   "cell_type": "code",
   "execution_count": 111,
   "metadata": {},
   "outputs": [
    {
     "ename": "NameError",
     "evalue": "name 'niz' is not defined",
     "output_type": "error",
     "traceback": [
      "\u001b[0;31m---------------------------------------------------------------------------\u001b[0m",
      "\u001b[0;31mNameError\u001b[0m                                 Traceback (most recent call last)",
      "\u001b[0;32m<timed eval>\u001b[0m in \u001b[0;36m<module>\u001b[0;34m()\u001b[0m\n",
      "\u001b[0;31mNameError\u001b[0m: name 'niz' is not defined"
     ]
    }
   ],
   "source": [
    "%time vektorizirana(niz)"
   ]
  },
  {
   "cell_type": "code",
   "execution_count": 90,
   "metadata": {},
   "outputs": [
    {
     "ename": "NameError",
     "evalue": "name 'niz' is not defined",
     "output_type": "error",
     "traceback": [
      "\u001b[0;31m---------------------------------------------------------------------------\u001b[0m",
      "\u001b[0;31mNameError\u001b[0m                                 Traceback (most recent call last)",
      "\u001b[0;32m<timed eval>\u001b[0m in \u001b[0;36m<module>\u001b[0;34m()\u001b[0m\n",
      "\u001b[0;31mNameError\u001b[0m: name 'niz' is not defined"
     ]
    }
   ],
   "source": [
    "%time np.array(list(map(funkcija, niz)))"
   ]
  },
  {
   "cell_type": "markdown",
   "metadata": {},
   "source": [
    "## Zadaci za vježbu"
   ]
  },
  {
   "cell_type": "markdown",
   "metadata": {},
   "source": [
    "Definirajte $A$ kao $5\\times5$ slučajnu matricu čiji elementi su uniformno izabrani iz $[0,1\\rangle$. Izvucite matricu $B$ kao $2\\times2$ gornji lijevi kut od $A$. Kvadrirajte matricu $B$ te njen kvadrat ubacite umjesto $B$ u gornji lijevi kut od $A$."
   ]
  },
  {
   "cell_type": "markdown",
   "metadata": {},
   "source": [
    "Objasnite:"
   ]
  },
  {
   "cell_type": "code",
   "execution_count": null,
   "metadata": {},
   "outputs": [],
   "source": [
    "x = np.linspace(0, 1, 3)\n",
    "y = 2 * x + 1\n",
    "z = 4 * x - 4\n",
    "print(x, y, z)\n",
    "\n",
    "x = np.linspace(0, 1, 3)\n",
    "y = x\n",
    "y *= 2\n",
    "y += 1\n",
    "z = x\n",
    "z *= 4\n",
    "z -= 4\n",
    "print(x, y, z)"
   ]
  },
  {
   "cell_type": "markdown",
   "metadata": {},
   "source": [
    "Vektorizirajte rješenje zadatka s trapeznom formulom iz prethodnog predavanja. Vektorizirana funkcija treba za argumente primati funkciju $f$ i broj $n$, te dva niza $a$ i $b$ iste duljine, te vraćati niz brojeva koji odgovaraju aproksimacijama integrala $\\int_{a_i}^{b_i}f(x)\\,dx$."
   ]
  },
  {
   "cell_type": "markdown",
   "metadata": {},
   "source": [
    "Dana je funkcija $$f(x):=\\frac{n}{n+1}\\cdot\\begin{cases}\n",
    "\\left(\\frac12\\right)^{1+\\frac1n}-\\left(\\frac12-x\\right)^{1+\\frac1n},&0\\le x\\le\\frac12\\\\\n",
    "\\left(\\frac12\\right)^{1+\\frac1n}-\\left(x-\\frac12\\right)^{1+\\frac1n},&\\frac12<x\\le1\n",
    "\\end{cases}.$$\n",
    "Ovdje je $n\\in\\langle0,1]$ realan broj. Napišite vektoriziranu funkciju za računanje vrijednosti funkcije $f$ na skupu $m$ ekvidistantnih brojeva između $0$ i $1$."
   ]
  },
  {
   "cell_type": "markdown",
   "metadata": {},
   "source": [
    "Neka su $x_1, \\dotsc, x_n$ uniformno distribuirani slučajni brojevi između $a$ i $b$. Tada se $\\int_a^b f$ može aproksimirati sa $\\frac{b-a}{n}\\cdot\\sum_{i=1}^n f(x_i)$, postupkom koji se obično zove _Monte-Carlo integracija_. Napišite funkciju koja kao ulaz prima $a$, $b$, $f$ te $n$ s podrazumijevanom vrijednošću $1000$, te vraća rezultat Monte-Carlo integracije. Funkcija ne smije koristiti petlje."
   ]
  },
  {
   "cell_type": "code",
   "execution_count": null,
   "metadata": {},
   "outputs": [],
   "source": []
  }
 ],
 "metadata": {
  "kernelspec": {
   "display_name": "Python 3",
   "language": "python",
   "name": "python3"
  },
  "language_info": {
   "codemirror_mode": {
    "name": "ipython",
    "version": 3
   },
   "file_extension": ".py",
   "mimetype": "text/x-python",
   "name": "python",
   "nbconvert_exporter": "python",
   "pygments_lexer": "ipython3",
   "version": "3.6.4"
  }
 },
 "nbformat": 4,
 "nbformat_minor": 2
}
