{
 "cells": [
  {
   "cell_type": "markdown",
   "metadata": {},
   "source": [
    "# Matematički softver\n",
    "## Prvi kolokvij"
   ]
  },
  {
   "cell_type": "markdown",
   "metadata": {},
   "source": [
    "Ovo je \"open book\" kolokvij. Dozvoljeno je korištenje bilo kakvih materijala — bilješke s vježbi,\n",
    "help, tutoriali, postovi na online forumima,... — nastalih _prije_ kolokvija (npr. dozvoljeno je na _StackOverflowu_ naći rješenje nekog zadatka, ali nije dozvoljeno tamo postaviti pitanje kako se rješava neki zadatak).\n",
    "\n",
    "Također, nije dozvoljena komunikacija (razgovor, _chat_, razmjena bilježaka) među studentima.\n",
    "\n",
    "Rješenja zadataka pišite u ovu bilježnicu, koju na kraju pošaljite sa Subjectom \"MS K1\" na veky@math.hr. Rješenje svakog zadatka mora biti samo sebi dovoljno (ponovite `import`e koji vam trebaju), i mora se moći izvršiti bez warninga i grešaka.\n",
    "\n",
    "Predviđeno vrijeme rješavanja je 90 minuta. Svaki zadatak vrijedi 8 bodova. Maksimalni broj bodova koji se može osvojiti je 40."
   ]
  },
  {
   "cell_type": "markdown",
   "metadata": {},
   "source": [
    "### Prvi zadatak"
   ]
  },
  {
   "cell_type": "markdown",
   "metadata": {},
   "source": [
    "Napišite funkciju `usporedi` koja prima dvije liste, u svakoj od kojih se nalaze samo cijeli brojevi (`int`) i stringovi (`str`). Ako nisu jednake duljine, `usporedi` vraća `False`. Ako jesu, `usporedi` treba ustanoviti jesu li elementi na odgovarajućim pozicijama \"slični\".\n",
    "\n",
    "* dva cijela broja su slični ako je jedan od njih (bilo koji) djeljiv onim drugim\n",
    "* dva stringa su slični ako su jednaki do na veličinu slova (_case insensitive_)\n",
    "* string i cijeli broj nisu nikada slični\n",
    "\n",
    "Primjerice, `usporedi([a, b, c], [d, e, f])` treba vratiti `True` ako su `a` i `b` slični, `c` i `d` slični, te `e` i `f` slični."
   ]
  },
  {
   "cell_type": "code",
   "execution_count": 12,
   "metadata": {},
   "outputs": [
    {
     "data": {
      "text/plain": [
       "True"
      ]
     },
     "execution_count": 12,
     "metadata": {},
     "output_type": "execute_result"
    }
   ],
   "source": [
    "all([\n",
    "    usporedi([24, 'v'], [12, 'V']) == True,\n",
    "    usporedi([1, 2], [1]) == False,\n",
    "    usporedi([1, 't'], ['t', 1]) == False,\n",
    "    usporedi(['', 0, 'Wäßrig'], ['', 52, 'WÄSSRIG'])\n",
    "])"
   ]
  },
  {
   "cell_type": "code",
   "execution_count": 72,
   "metadata": {},
   "outputs": [
    {
     "ename": "SyntaxError",
     "evalue": "invalid syntax (<ipython-input-72-3b7f18383e73>, line 2)",
     "output_type": "error",
     "traceback": [
      "\u001b[0;36m  File \u001b[0;32m\"<ipython-input-72-3b7f18383e73>\"\u001b[0;36m, line \u001b[0;32m2\u001b[0m\n\u001b[0;31m    if (len(lista1)!=len(lista2)) return False\u001b[0m\n\u001b[0m                                       ^\u001b[0m\n\u001b[0;31mSyntaxError\u001b[0m\u001b[0;31m:\u001b[0m invalid syntax\n"
     ]
    }
   ],
   "source": [
    "def usporedi(lista1, lista2):\n",
    "    if (len(lista1)!=len(lista2)) return False\n",
    "else \n",
    "for rijec1,rijec2 in lista1,lista2:\n",
    "    if rijec1%rijec2 != 0 return False\n",
    "    else if rijec1!=rijeec2 return False\n",
    "else return True"
   ]
  },
  {
   "cell_type": "markdown",
   "metadata": {},
   "source": [
    "### Drugi zadatak"
   ]
  },
  {
   "cell_type": "markdown",
   "metadata": {},
   "source": [
    "U varijabli `kocke` nalazi se tri milijuna rezultata bacanja igraće kocke."
   ]
  },
  {
   "cell_type": "code",
   "execution_count": 87,
   "metadata": {},
   "outputs": [],
   "source": [
    "import numpy as np"
   ]
  },
  {
   "cell_type": "code",
   "execution_count": 100,
   "metadata": {},
   "outputs": [],
   "source": [
    "kocke = 1 + np.random.randint(0, 6, 3_000_000, dtype=np.int8)\n",
    "A = np.reshape(kocke, [750000, 4])\n",
    "A\n",
    "broj_bacanja = 3_000_000\n"
   ]
  },
  {
   "cell_type": "markdown",
   "metadata": {},
   "source": [
    "#### a)\n",
    "\n",
    "Interpretirajte `kocke` kao niz pokusa bacanja po četiri kocke (ne kopirajte podatke, samo im promijenite oblik).\n",
    "\n",
    "Izračunajte, i izrazite u postotcima na dvije decimale, _a posteriori_ vjerojatnost da se u bacanju četiri kocke pojavi bar jedna šestica. Isplati li se kladiti (1:1) na taj događaj? "
   ]
  },
  {
   "cell_type": "markdown",
   "metadata": {},
   "source": [
    "#### b)"
   ]
  },
  {
   "cell_type": "markdown",
   "metadata": {},
   "source": [
    "Sada reinterpretirajte `kocke` kao niz pokusa, svaki od kojih se sastoji od 24 bacanja 2 kocke (trodimenzionalni tenzor).\n",
    "\n",
    "Odgovorite na ista pitanja kao u **a)**, za događaj da se u 24 bacanja 2 kocke bar jednom pojavi dvostruka šestica."
   ]
  },
  {
   "cell_type": "markdown",
   "metadata": {},
   "source": [
    "### Treći zadatak"
   ]
  },
  {
   "cell_type": "markdown",
   "metadata": {},
   "source": [
    "U datoteci `bodovi.csv` nalaze se bodovi studenata nekog izmišljenog kolegija. Stupci su redom ime i prezime studenta, bodovi s prvog i drugog kolokvija, te bodovi s tri zadaće.\n",
    "\n",
    "* Učitajte datoteku u DataFrame.\n",
    "* Dodajte stupac `Kolokviji` koji predstavlja zbroj bodova na oba kolokvija.\n",
    "* Dodajte stupac `Zadaće` koji predstavlja ukupan broj bodova na zadaćama. Najslabije napisana zadaća se ne računa.\n",
    "* Odredite je li bolje (u prosjeku) bio napisan prvi ili drugi kolokvij.\n",
    "* Ispišite _top 10_ studenata po ukupnim bodovima (kolokviji plus zadaće).\n",
    "\n",
    "Sve radite u jednom DataFrameu. Smijete dodavati i pomoćne stupce (osim dva gore zadana), ali ih morate obrisati kasnije."
   ]
  },
  {
   "cell_type": "code",
   "execution_count": 15,
   "metadata": {},
   "outputs": [],
   "source": [
    "import pandas as pd\n",
    "import urllib.request as rq\n",
    "import pathlib\n",
    "with rq.urlopen('https://github.com/vedgar/ms/blob/master/bodovi.csv') as url:\n",
    "    pathlib.Path('bodovi.csv').write_bytes(url.read())"
   ]
  },
  {
   "cell_type": "code",
   "execution_count": 44,
   "metadata": {},
   "outputs": [
    {
     "name": "stdout",
     "output_type": "stream",
     "text": [
      "15.527 18.996\n"
     ]
    }
   ],
   "source": [
    "header = 'ime prezime bodovi1 bodovi2 zad1 zad2 zad3'.split()\n",
    "df = pd.read_csv('bodovi.tsv',delimiter='\\t', names=header)\n",
    "\n",
    "df['kolokviji'] = df['bodovi1']+df['bodovi2']\n",
    "df.head()\n",
    "df['zadaće']= df['zad1']+df['zad2']+df['zad3']\n",
    "df.head()\n",
    "prvi = df['bodovi1'].sum()\n",
    "drugi = df['bodovi2'].sum()\n",
    "ukupno_ucenika =len(df.index)\n",
    "\n",
    "kol1 = prvi/ukupno_ucenika\n",
    "\n",
    "kol2 = drugi/ukupno_ucenika\n",
    "print(kol1,kol2)"
   ]
  },
  {
   "cell_type": "markdown",
   "metadata": {},
   "source": [
    "U prosjeku je bolje napisan drugi kolokvij."
   ]
  },
  {
   "cell_type": "code",
   "execution_count": 57,
   "metadata": {},
   "outputs": [
    {
     "data": {
      "text/html": [
       "<div>\n",
       "<style scoped>\n",
       "    .dataframe tbody tr th:only-of-type {\n",
       "        vertical-align: middle;\n",
       "    }\n",
       "\n",
       "    .dataframe tbody tr th {\n",
       "        vertical-align: top;\n",
       "    }\n",
       "\n",
       "    .dataframe thead th {\n",
       "        text-align: right;\n",
       "    }\n",
       "</style>\n",
       "<table border=\"1\" class=\"dataframe\">\n",
       "  <thead>\n",
       "    <tr style=\"text-align: right;\">\n",
       "      <th></th>\n",
       "      <th>ime</th>\n",
       "      <th>prezime</th>\n",
       "      <th>bodovi1</th>\n",
       "      <th>bodovi2</th>\n",
       "      <th>zad1</th>\n",
       "      <th>zad2</th>\n",
       "      <th>zad3</th>\n",
       "      <th>kolokviji</th>\n",
       "      <th>zadaće</th>\n",
       "      <th>ukupno</th>\n",
       "    </tr>\n",
       "  </thead>\n",
       "  <tbody>\n",
       "    <tr>\n",
       "      <th>599</th>\n",
       "      <td>Mercedes</td>\n",
       "      <td>Boone</td>\n",
       "      <td>30</td>\n",
       "      <td>30</td>\n",
       "      <td>4</td>\n",
       "      <td>5</td>\n",
       "      <td>5</td>\n",
       "      <td>60</td>\n",
       "      <td>14</td>\n",
       "      <td>74</td>\n",
       "    </tr>\n",
       "    <tr>\n",
       "      <th>50</th>\n",
       "      <td>Lea</td>\n",
       "      <td>Henry</td>\n",
       "      <td>30</td>\n",
       "      <td>30</td>\n",
       "      <td>5</td>\n",
       "      <td>4</td>\n",
       "      <td>4</td>\n",
       "      <td>60</td>\n",
       "      <td>13</td>\n",
       "      <td>73</td>\n",
       "    </tr>\n",
       "    <tr>\n",
       "      <th>450</th>\n",
       "      <td>Ryker</td>\n",
       "      <td>Tate</td>\n",
       "      <td>30</td>\n",
       "      <td>30</td>\n",
       "      <td>4</td>\n",
       "      <td>5</td>\n",
       "      <td>3</td>\n",
       "      <td>60</td>\n",
       "      <td>12</td>\n",
       "      <td>72</td>\n",
       "    </tr>\n",
       "    <tr>\n",
       "      <th>64</th>\n",
       "      <td>Rowan</td>\n",
       "      <td>Madden</td>\n",
       "      <td>27</td>\n",
       "      <td>30</td>\n",
       "      <td>5</td>\n",
       "      <td>5</td>\n",
       "      <td>5</td>\n",
       "      <td>57</td>\n",
       "      <td>15</td>\n",
       "      <td>72</td>\n",
       "    </tr>\n",
       "    <tr>\n",
       "      <th>610</th>\n",
       "      <td>Stephany</td>\n",
       "      <td>Mason</td>\n",
       "      <td>30</td>\n",
       "      <td>30</td>\n",
       "      <td>3</td>\n",
       "      <td>5</td>\n",
       "      <td>3</td>\n",
       "      <td>60</td>\n",
       "      <td>11</td>\n",
       "      <td>71</td>\n",
       "    </tr>\n",
       "    <tr>\n",
       "      <th>603</th>\n",
       "      <td>Joy</td>\n",
       "      <td>Dorsey</td>\n",
       "      <td>30</td>\n",
       "      <td>30</td>\n",
       "      <td>4</td>\n",
       "      <td>5</td>\n",
       "      <td>2</td>\n",
       "      <td>60</td>\n",
       "      <td>11</td>\n",
       "      <td>71</td>\n",
       "    </tr>\n",
       "    <tr>\n",
       "      <th>204</th>\n",
       "      <td>Makaila</td>\n",
       "      <td>Schaefer</td>\n",
       "      <td>30</td>\n",
       "      <td>30</td>\n",
       "      <td>4</td>\n",
       "      <td>5</td>\n",
       "      <td>2</td>\n",
       "      <td>60</td>\n",
       "      <td>11</td>\n",
       "      <td>71</td>\n",
       "    </tr>\n",
       "    <tr>\n",
       "      <th>57</th>\n",
       "      <td>Daniella</td>\n",
       "      <td>Collins</td>\n",
       "      <td>27</td>\n",
       "      <td>30</td>\n",
       "      <td>5</td>\n",
       "      <td>4</td>\n",
       "      <td>5</td>\n",
       "      <td>57</td>\n",
       "      <td>14</td>\n",
       "      <td>71</td>\n",
       "    </tr>\n",
       "    <tr>\n",
       "      <th>909</th>\n",
       "      <td>Hillary</td>\n",
       "      <td>Gentry</td>\n",
       "      <td>30</td>\n",
       "      <td>30</td>\n",
       "      <td>4</td>\n",
       "      <td>2</td>\n",
       "      <td>5</td>\n",
       "      <td>60</td>\n",
       "      <td>11</td>\n",
       "      <td>71</td>\n",
       "    </tr>\n",
       "    <tr>\n",
       "      <th>673</th>\n",
       "      <td>Mia</td>\n",
       "      <td>Yu</td>\n",
       "      <td>29</td>\n",
       "      <td>30</td>\n",
       "      <td>2</td>\n",
       "      <td>5</td>\n",
       "      <td>4</td>\n",
       "      <td>59</td>\n",
       "      <td>11</td>\n",
       "      <td>70</td>\n",
       "    </tr>\n",
       "  </tbody>\n",
       "</table>\n",
       "</div>"
      ],
      "text/plain": [
       "          ime   prezime  bodovi1  bodovi2  zad1  zad2  zad3  kolokviji  \\\n",
       "599  Mercedes     Boone       30       30     4     5     5         60   \n",
       "50        Lea     Henry       30       30     5     4     4         60   \n",
       "450     Ryker      Tate       30       30     4     5     3         60   \n",
       "64      Rowan    Madden       27       30     5     5     5         57   \n",
       "610  Stephany     Mason       30       30     3     5     3         60   \n",
       "603       Joy    Dorsey       30       30     4     5     2         60   \n",
       "204   Makaila  Schaefer       30       30     4     5     2         60   \n",
       "57   Daniella   Collins       27       30     5     4     5         57   \n",
       "909   Hillary    Gentry       30       30     4     2     5         60   \n",
       "673       Mia        Yu       29       30     2     5     4         59   \n",
       "\n",
       "     zadaće  ukupno  \n",
       "599      14      74  \n",
       "50       13      73  \n",
       "450      12      72  \n",
       "64       15      72  \n",
       "610      11      71  \n",
       "603      11      71  \n",
       "204      11      71  \n",
       "57       14      71  \n",
       "909      11      71  \n",
       "673      11      70  "
      ]
     },
     "execution_count": 57,
     "metadata": {},
     "output_type": "execute_result"
    }
   ],
   "source": [
    "\n",
    "df['ukupno'] = df['kolokviji']+df['zadaće']\n",
    "df.head()\n",
    "df.sort_values(by='ukupno', ascending=False).head(10)\n"
   ]
  },
  {
   "cell_type": "markdown",
   "metadata": {},
   "source": [
    "### Četvrti zadatak"
   ]
  },
  {
   "cell_type": "markdown",
   "metadata": {},
   "source": [
    "Nacrtajte, jedan pored drugog sa zajedničkom osi ordinata, grafove funkcijâ $f(x)=1/x$ i $g(x)=1/x^2$ na segmentu $[-1,1]$."
   ]
  },
  {
   "cell_type": "code",
   "execution_count": 71,
   "metadata": {},
   "outputs": [
    {
     "data": {
      "text/plain": [
       "[<matplotlib.lines.Line2D at 0x7f145bcd3390>]"
      ]
     },
     "execution_count": 71,
     "metadata": {},
     "output_type": "execute_result"
    },
    {
     "data": {
      "image/png": "[encoded data removed]",
      "text/plain": [
       "<matplotlib.figure.Figure at 0x7f145bcd3b70>"
      ]
     },
     "metadata": {},
     "output_type": "display_data"
    }
   ],
   "source": [
    "import matplotlib.pyplot as plt\n",
    "import numpy as np\n",
    "fig1, (ax1,ax2) = plt.subplots(1, 2, sharey=True)\n",
    "domena = np.linspace(-1, 1, 100)\n",
    "ax1.plot(domena, 1/domena)\n",
    "ax2.plot(domena, 1/domena**2)"
   ]
  },
  {
   "cell_type": "markdown",
   "metadata": {},
   "source": [
    "### Peti zadatak"
   ]
  },
  {
   "cell_type": "markdown",
   "metadata": {},
   "source": [
    "Riješite egzaktno diferencijalnu jednadžbu $x\\,y\\,'+y=x\\sin x$ uz početni uvjet $y\\left(\\frac\\pi2\\right)=-\\frac12$."
   ]
  },
  {
   "cell_type": "code",
   "execution_count": 11,
   "metadata": {},
   "outputs": [
    {
     "data": {
      "image/png": "[encoded data removed]",
      "text/latex": [
       "$$x \\frac{d}{d x} y{\\left (x \\right )} + y{\\left (x \\right )} = x \\sin{\\left (x \\right )}$$"
      ],
      "text/plain": [
       "  d                         \n",
       "x⋅──(y(x)) + y(x) = x⋅sin(x)\n",
       "  dx                        "
      ]
     },
     "execution_count": 11,
     "metadata": {},
     "output_type": "execute_result"
    }
   ],
   "source": [
    "import sympy as sp\n",
    "sp.init_printing()\n",
    "x = sp.Symbol('x')\n",
    "y = sp.Function('y')\n",
    "from IPython.display import display\n",
    "\n",
    "jednadzba = sp.Eq(x*y(x).diff(x)+y(x) , x*sp.sin(x))\n",
    "jednadzba\n"
   ]
  },
  {
   "cell_type": "code",
   "execution_count": 74,
   "metadata": {},
   "outputs": [],
   "source": [
    "a = sp.dsolve(jednadzba,y(x))"
   ]
  },
  {
   "cell_type": "code",
   "execution_count": 75,
   "metadata": {},
   "outputs": [
    {
     "data": {
      "image/png": "[encoded data removed]",
      "text/latex": [
       "$$y{\\left (x \\right )} = \\frac{C_{1}}{x} - \\cos{\\left (x \\right )} + \\frac{1}{x} \\sin{\\left (x \\right )}$$"
      ],
      "text/plain": [
       "       C₁            sin(x)\n",
       "y(x) = ── - cos(x) + ──────\n",
       "       x               x   "
      ]
     },
     "execution_count": 75,
     "metadata": {},
     "output_type": "execute_result"
    }
   ],
   "source": [
    "a"
   ]
  },
  {
   "cell_type": "code",
   "execution_count": 83,
   "metadata": {},
   "outputs": [
    {
     "data": {
      "image/png": "[encoded data removed]",
      "text/latex": [
       "$$y{\\left (\\frac{\\pi}{2} \\right )} = \\frac{2 C_{1}}{\\pi} + \\frac{2}{\\pi}$$"
      ],
      "text/plain": [
       " ⎛π⎞   2⋅C₁   2\n",
       "y⎜─⎟ = ──── + ─\n",
       " ⎝2⎠    π     π"
      ]
     },
     "execution_count": 83,
     "metadata": {},
     "output_type": "execute_result"
    }
   ],
   "source": [
    "b = a.subs(x, sp.pi/2)\n",
    "b"
   ]
  },
  {
   "cell_type": "code",
   "execution_count": 82,
   "metadata": {},
   "outputs": [
    {
     "data": {
      "image/png": "[encoded data removed]",
      "text/latex": [
       "$$-0.5 = \\frac{2 C_{1}}{\\pi} + \\frac{2}{\\pi}$$"
      ],
      "text/plain": [
       "       2⋅C₁   2\n",
       "-0.5 = ──── + ─\n",
       "        π     π"
      ]
     },
     "execution_count": 82,
     "metadata": {},
     "output_type": "execute_result"
    }
   ],
   "source": [
    "b.subs(y(sp.pi/2), -1/2)"
   ]
  },
  {
   "cell_type": "code",
   "execution_count": null,
   "metadata": {},
   "outputs": [],
   "source": []
  }
 ],
 "metadata": {
  "kernelspec": {
   "display_name": "Python 3",
   "language": "python",
   "name": "python3"
  },
  "language_info": {
   "codemirror_mode": {
    "name": "ipython",
    "version": 3
   },
   "file_extension": ".py",
   "mimetype": "text/x-python",
   "name": "python",
   "nbconvert_exporter": "python",
   "pygments_lexer": "ipython3",
   "version": "3.6.4"
  }
 },
 "nbformat": 4,
 "nbformat_minor": 2
}
